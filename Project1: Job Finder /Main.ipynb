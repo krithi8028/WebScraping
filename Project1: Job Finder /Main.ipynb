{
 "cells": [
  {
   "cell_type": "code",
   "execution_count": null,
   "id": "3fff2629",
   "metadata": {},
   "outputs": [
    {
     "name": "stdout",
     "output_type": "stream",
     "text": [
      "Put some skills that you are not familiar with\n",
      ">django\n",
      "filtering out django\n",
      "waiting 1 minute(s)....\n",
      "Put some skills that you are not familiar with\n",
      ">hadoop\n",
      "filtering out hadoop\n",
      "waiting 1 minute(s)....\n",
      "Put some skills that you are not familiar with\n",
      ">rest\n",
      "filtering out rest\n",
      "waiting 1 minute(s)....\n"
     ]
    }
   ],
   "source": [
    "import requests\n",
    "from bs4 import BeautifulSoup\n",
    "import time\n",
    "\n",
    "def find_jobs():\n",
    "    html_text = requests.get('https://www.timesjobs.com/candidate/job-search.html?searchType=personalizedSearch&from=submit&searchTextSrc=&searchTextText=&txtKeywords=python&txtLocation=').text\n",
    "    soup = BeautifulSoup(html_text, 'lxml')\n",
    "    print(\"Put some skills that you are not familiar with\")\n",
    "    unfamiliar_skill = input('>')\n",
    "    print(f'filtering out {unfamiliar_skill}')\n",
    "    jobs = soup.find_all('li', class_='clearfix job-bx wht-shd-bx')\n",
    "\n",
    "    with open('jobs_info.txt', 'a') as f:  # Open a single file to store all job information\n",
    "        for index, job in enumerate(jobs):\n",
    "            published_date = job.find('span', class_='sim-posted').span.text\n",
    "            if 'few' in published_date:\n",
    "                company_name = job.find('h3', class_='joblist-comp-name').text.replace(' ', '')\n",
    "                skills = job.find('span', class_='srp-skills').text.replace(\" \", \"\")\n",
    "                more_info = job.header.h2.a['href']\n",
    "                if unfamiliar_skill not in skills:\n",
    "                    f.write(f'Company Name: {company_name.strip()} | Required Skills: {skills.strip()}\\n')\n",
    "                    f.write(f'More Info: {more_info}\\n\\n')\n",
    "\n",
    "if __name__ == '__main__':\n",
    "    while True:\n",
    "        find_jobs()\n",
    "        time_wait = 1\n",
    "        print(f'waiting {time_wait} minute(s)....')\n",
    "        time.sleep(time_wait * 60)\n"
   ]
  },
  {
   "cell_type": "code",
   "execution_count": null,
   "id": "64ac0fde",
   "metadata": {},
   "outputs": [],
   "source": []
  }
 ],
 "metadata": {
  "kernelspec": {
   "display_name": "Python 3 (ipykernel)",
   "language": "python",
   "name": "python3"
  },
  "language_info": {
   "codemirror_mode": {
    "name": "ipython",
    "version": 3
   },
   "file_extension": ".py",
   "mimetype": "text/x-python",
   "name": "python",
   "nbconvert_exporter": "python",
   "pygments_lexer": "ipython3",
   "version": "3.11.4"
  }
 },
 "nbformat": 4,
 "nbformat_minor": 5
}
